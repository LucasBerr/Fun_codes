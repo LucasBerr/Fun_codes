{
  "nbformat": 4,
  "nbformat_minor": 0,
  "metadata": {
    "colab": {
      "provenance": [],
      "collapsed_sections": [
        "xZtmR3hV6QkX",
        "xdGKgITi8iHX"
      ],
      "authorship_tag": "ABX9TyPQgcOSNWr7QR653MDW1b8y",
      "include_colab_link": true
    },
    "kernelspec": {
      "name": "python3",
      "display_name": "Python 3"
    },
    "language_info": {
      "name": "python"
    }
  },
  "cells": [
    {
      "cell_type": "markdown",
      "metadata": {
        "id": "view-in-github",
        "colab_type": "text"
      },
      "source": [
        "<a href=\"https://colab.research.google.com/github/LucasBerr/Fun_codes/blob/main/Fun_code.ipynb\" target=\"_parent\"><img src=\"https://colab.research.google.com/assets/colab-badge.svg\" alt=\"Open In Colab\"/></a>"
      ]
    },
    {
      "cell_type": "markdown",
      "source": [
        "**Eu recomendo fortemente que você abre esse arquivo no google colab**"
      ],
      "metadata": {
        "id": "1lo-nlUa_VGB"
      }
    },
    {
      "cell_type": "markdown",
      "source": [
        "\n",
        "**I strongly recommend that you open this file in google colab**"
      ],
      "metadata": {
        "id": "I0KCAjEn_mdi"
      }
    },
    {
      "cell_type": "markdown",
      "source": [
        "# PT-BR\n",
        "\n"
      ],
      "metadata": {
        "id": "xZtmR3hV6QkX"
      }
    },
    {
      "cell_type": "markdown",
      "source": [
        "**Aqui estão alguns dos códigos feitos por mim de diversos cursos que eu já fiz, ou estou fazendo**. 🥰"
      ],
      "metadata": {
        "id": "KXVchj-eyX0T"
      }
    },
    {
      "cell_type": "markdown",
      "source": [
        "Os códigos estão organizados em cursos, cada código possui uma descrição com o link que foi tirado e depois adaptado para funcionar dentro do Google Colab. \n"
      ],
      "metadata": {
        "id": "DQXnta8bzOsB"
      }
    },
    {
      "cell_type": "markdown",
      "source": [
        "Você também pode **executar** (no Google Colab) esses códigos e testa-los!! \n",
        "Basta clicar no botão play e rolar até o terminal!\n",
        "\n"
      ],
      "metadata": {
        "id": "e2_O6xvgzlBK"
      }
    },
    {
      "cell_type": "markdown",
      "source": [
        "## CS50P\n"
      ],
      "metadata": {
        "id": "2CurBi526mBn"
      }
    },
    {
      "cell_type": "markdown",
      "source": [
        "CS50P é o curso introdutório de Ciência da Computação de Harvard com Python.\n",
        "Link: https://cs50.harvard.edu/python/2022/"
      ],
      "metadata": {
        "id": "VECWnU7w7HXA"
      }
    },
    {
      "cell_type": "markdown",
      "source": [
        "###**Bitcoin**"
      ],
      "metadata": {
        "id": "guNvgLuA7flU"
      }
    },
    {
      "cell_type": "markdown",
      "source": [
        "Este código é de uma adaptação do exercício bitcoin(https://cs50.harvard.edu/python/2022/psets/4/bitcoin/). Neste exercício era requerido um programa que mostrasse preço **atual** da Bitcoin de acordo com a quantidade de Bitcoins pedida pelo usuário. "
      ],
      "metadata": {
        "id": "4lWyjp3k7flU"
      }
    },
    {
      "cell_type": "markdown",
      "source": [
        "***ATENÇÃO!! LEIA AS INSTRUÇÕES!!***"
      ],
      "metadata": {
        "id": "6XLo-Ltx7flU"
      }
    },
    {
      "cell_type": "markdown",
      "source": [
        "***INSTRUÇÕES:***\n",
        "\n",
        "O programa irá pedir a quantidade de Bitcoins que você deseja comprar.\n",
        "\n",
        "Depois ele irá printar o quanto de dinheiro(em dólares) que vai custar para você comprar esta determinada quantidade de Bitcoin **atualmente**."
      ],
      "metadata": {
        "id": "B_5cskSb7flV"
      }
    },
    {
      "cell_type": "code",
      "source": [
        "#@title Bitcoin.py\n",
        "import json\n",
        "import requests\n",
        "import sys\n",
        "\n",
        "def main():\n",
        "    # Get the amount of Bitcoins the user wants\n",
        "    amount = get_amount()\n",
        "\n",
        "    price = get_price()\n",
        "    print(price)\n",
        "    # Remove , and . from price\n",
        "    \"\"\"\n",
        "    ATTENTION: I know there is a bug with my code.\n",
        "    like: If the price of Bitcoin goes up like, to a BILLION dollars\n",
        "    my code won't be abblee to remove two commas.\n",
        "    But I don't want to spend more time in this exercise right now, maybe\n",
        "    another time i will fix-it, sorry and bybye!\n",
        "    \"\"\"\n",
        "    price = price.partition(\",\")\n",
        "    price = price[0] + price[2]\n",
        "\n",
        "    price = float(price)\n",
        "\n",
        "    price = price * amount\n",
        "\n",
        "    print(f\"${price:,.4f}\")\n",
        "\n",
        "def get_amount():\n",
        "  while True:\n",
        "    try:\n",
        "      amount = float(input(\"Insert the amount of Bitcoins: \"))\n",
        "      if(amount < 1):\n",
        "        print(\"HOW WOULD YOU BUY 0 or NEGATIVE BITCOINS!\")\n",
        "      else:\n",
        "        return amount\n",
        "    except ValueError:\n",
        "      print(\"Please insert a number\")\n",
        "\n",
        "def get_price():\n",
        "\n",
        "    api = requests.get(\"https://api.coindesk.com/v1/bpi/currentprice.json\")\n",
        "    #print(json.dumps(api.json(), indent = 2))\n",
        "    o = api.json()\n",
        "    return o[\"bpi\"][\"USD\"][\"rate\"]\n",
        "\n",
        "if __name__ == \"__main__\":\n",
        "    main()"
      ],
      "metadata": {
        "cellView": "form",
        "id": "YoCECsDx7flV"
      },
      "execution_count": null,
      "outputs": []
    },
    {
      "cell_type": "markdown",
      "source": [
        "###**LITTLE PROFESSOR**"
      ],
      "metadata": {
        "id": "F17Hb9T57wu4"
      }
    },
    {
      "cell_type": "markdown",
      "source": [
        "Este código é de uma adaptação do exercício professor(https://cs50.harvard.edu/python/2022/psets/4/professor/). Neste exercício era requerido um programa que imitasse um brinquedinho de criança que ajudava elas a exercitar cálculos de matemática básica."
      ],
      "metadata": {
        "id": "TLfTroOC7wu5"
      }
    },
    {
      "cell_type": "markdown",
      "source": [
        "***ATENÇÃO!! LEIA AS INSTRUÇÕES!!***"
      ],
      "metadata": {
        "id": "LReImL5W7wu5"
      }
    },
    {
      "cell_type": "markdown",
      "source": [
        "***INSTRUÇÕES:***\n",
        "  \n",
        "  O programa pedirá um \"level\" os leveis são compostos da seguinte maneira:\n",
        "    \n",
        "    1 = numeros com uma casa decimal\n",
        "    2 = numeros com duas casas decimais\n",
        "    3 = numeros com três casas decimais\n",
        "  \n",
        "  Então será gerado 5 problemas matemáticos de soma para que você possa resolve-los, caso erre algum 'EEE' aparecera na tela e você será convidado a tentar novamente, caso erre TRÊS VEZES o programa irá mostrar o resultado certo e você terá um erro no contador.\n",
        "  No final do programa será disponibilizado o seu Score(pontuação final) e ele terminará.\n",
        "\n",
        "  ***BOA SORTE!!***\n",
        "\n",
        "  Caso queira interromper o Programa aperte (CTRL + D) "
      ],
      "metadata": {
        "id": "ovs4GHgd7wu5"
      }
    },
    {
      "cell_type": "code",
      "execution_count": null,
      "metadata": {
        "cellView": "form",
        "id": "cSlfVUWA7wu5"
      },
      "outputs": [],
      "source": [
        "#@title Professor.py\n",
        "import random\n",
        "import sys\n",
        "import os\n",
        "\n",
        "def main():\n",
        "  level = get_level()\n",
        "  total_rights = 0\n",
        "  total_plays = 0\n",
        "  while True: \n",
        "    # Generate random numbers\n",
        "    x = generate_integer(level)\n",
        "    y = generate_integer(level)\n",
        "    # Sum the numbers\n",
        "    expected_result = x + y\n",
        "\n",
        "    # Get the result from the user\n",
        "    # Keep the correct answer\n",
        "    expected_result = x + y\n",
        "    # Count the number of mistakes\n",
        "    total_mistakes = 0\n",
        "    while True:\n",
        "        try:\n",
        "          # If the user misses 3 times print the correct result and\n",
        "          # return -1\n",
        "          if(total_mistakes == 3):\n",
        "              print(f\"{x} + {y} = {expected_result}\")\n",
        "              result = False\n",
        "              break\n",
        "          # Get the answer from the user\n",
        "          answer = int(input(f\"{x} + {y} = \"))\n",
        "        # If the user input something other than a int print \"EEE\" and add 1\n",
        "        # to total_mistakes\n",
        "        except ValueError:\n",
        "          print(\"EEE\")\n",
        "          total_mistakes += 1\n",
        "        except EOFError:\n",
        "          # The only way that worked to stop the code was using os, I know it is dangerous!\n",
        "          os._exit(1)\n",
        "          break\n",
        "        else:\n",
        "            # If the answer is the correct answer return answer\n",
        "            if(answer == expected_result):\n",
        "              result = True\n",
        "              break\n",
        "            # If it is wrong print \"EEE\" on the screen and add 1 to total\n",
        "            #_mistakes\n",
        "            else:\n",
        "                print(\"EEE\")\n",
        "                total_mistakes += 1\n",
        "    # If the user input something other than a int print \"EEE\" and add 1\n",
        "    # to total_mistakes\n",
        "    # If the result is right\n",
        "    if(result == True):\n",
        "        total_rights += 1\n",
        "    total_plays += 1\n",
        "\n",
        "    # if the user have already played 10 times print the score and\n",
        "    # exit the program\n",
        "    if(total_plays == 5):\n",
        "        print(f\"Score: {total_rights}\")\n",
        "        # The only way that worked to stop the code was using os, I know it is dangerous!\n",
        "        break\n",
        "\n",
        "\n",
        "def get_level():\n",
        "  while True:\n",
        "    try:\n",
        "      number = int(input(\"Level: \").strip())\n",
        "      if(number == 1 or number == 2 or number == 3):\n",
        "        break\n",
        "    except ValueError:\n",
        "      continue\n",
        "    except EOFError:\n",
        "      # The only way that worked to stop the code was using os, I know it is dangerous!\n",
        "      os._exit(1) \n",
        "  return number\n",
        "\n",
        "\n",
        "def generate_integer(level):\n",
        "  # Get a list of numbers\n",
        "  numbers = []\n",
        "  if(level  == 3):\n",
        "    for i in range(100, 1000):\n",
        "        numbers.append(int(i))\n",
        "  elif(level == 2):\n",
        "    for i in range(10, 100):\n",
        "        numbers.append(int(i))\n",
        "  elif(level == 1):\n",
        "    for i in range(0, 10):\n",
        "        numbers.append(int(i))\n",
        "  # Return a random number of the list\n",
        "  return random.choice(numbers)\n",
        "\n",
        "\n",
        "if __name__ == \"__main__\":\n",
        "  main()"
      ]
    },
    {
      "cell_type": "markdown",
      "source": [
        "# ENG\n"
      ],
      "metadata": {
        "id": "xdGKgITi8iHX"
      }
    },
    {
      "cell_type": "markdown",
      "source": [
        "**Here are some of the codes made by me from several courses that I have already taken, or am taking**. 🥰"
      ],
      "metadata": {
        "id": "renC_12L8qDo"
      }
    },
    {
      "cell_type": "markdown",
      "source": [
        "The codes are organized into courses, each code has a description with the link that was taken and then adapted to work within Google Colab.\n"
      ],
      "metadata": {
        "id": "gbrWDypI81HW"
      }
    },
    {
      "cell_type": "markdown",
      "source": [
        "\n",
        "You can also **run** (on Google Colab) these codes and test them!!\n",
        "Just click the play button and scroll to the terminal!"
      ],
      "metadata": {
        "id": "DAs8yzFX9aXH"
      }
    },
    {
      "cell_type": "markdown",
      "source": [
        "## **CS50P**"
      ],
      "metadata": {
        "id": "uV7xvEbT9cbH"
      }
    },
    {
      "cell_type": "markdown",
      "source": [
        "\n",
        "CS50P is Harvard's introductory Computer Science with Python course.\n",
        "Link: https://cs50.harvard.edu/python/2022/"
      ],
      "metadata": {
        "id": "p6i_NT7Z9l8Q"
      }
    },
    {
      "cell_type": "markdown",
      "source": [
        "### **Bitcoin**"
      ],
      "metadata": {
        "id": "603gR2qd94Px"
      }
    },
    {
      "cell_type": "markdown",
      "source": [
        "This code is from an adaptation of the bitcoin exercise (https://cs50.harvard.edu/python/2022/psets/4/bitcoin/). In this exercise, a program was required to show the **current** price of Bitcoin according to the amount of Bitcoins requested by the user."
      ],
      "metadata": {
        "id": "yRLegfWO96-H"
      }
    },
    {
      "cell_type": "markdown",
      "source": [
        "\n",
        "***ATTENTION!! READ INSTRUCTIONS!!***"
      ],
      "metadata": {
        "id": "lkhqOTp9-LnX"
      }
    },
    {
      "cell_type": "markdown",
      "source": [
        "**INSTRUCTIONS:**\n",
        "\n",
        "The program will ask for the amount of Bitcoins you want to buy.\n",
        "\n",
        "Then it will print how much money (in dollars) it will cost you to buy this certain amount of Bitcoin **currently**."
      ],
      "metadata": {
        "id": "-EjRguPl-NHH"
      }
    },
    {
      "cell_type": "code",
      "source": [
        "#@title Bitcoin.py\n",
        "import json\n",
        "import requests\n",
        "import sys\n",
        "\n",
        "def main():\n",
        "    # Get the amount of Bitcoins the user wants\n",
        "    amount = get_amount()\n",
        "\n",
        "    price = get_price()\n",
        "    print(price)\n",
        "    # Remove , and . from price\n",
        "    \"\"\"\n",
        "    ATTENTION: I know there is a bug with my code.\n",
        "    like: If the price of Bitcoin goes up like, to a BILLION dollars\n",
        "    my code won't be abblee to remove two commas.\n",
        "    But I don't want to spend more time in this exercise right now, maybe\n",
        "    another time i will fix-it, sorry and bybye!\n",
        "    \"\"\"\n",
        "    price = price.partition(\",\")\n",
        "    price = price[0] + price[2]\n",
        "\n",
        "    price = float(price)\n",
        "\n",
        "    price = price * amount\n",
        "\n",
        "    print(f\"${price:,.4f}\")\n",
        "\n",
        "def get_amount():\n",
        "  while True:\n",
        "    try:\n",
        "      amount = float(input(\"Insert the amount of Bitcoins: \"))\n",
        "      if(amount < 1):\n",
        "        print(\"HOW WOULD YOU BUY 0 or NEGATIVE BITCOINS!\")\n",
        "      else:\n",
        "        return amount\n",
        "    except ValueError:\n",
        "      print(\"Please insert a number\")\n",
        "\n",
        "def get_price():\n",
        "\n",
        "    api = requests.get(\"https://api.coindesk.com/v1/bpi/currentprice.json\")\n",
        "    #print(json.dumps(api.json(), indent = 2))\n",
        "    o = api.json()\n",
        "    return o[\"bpi\"][\"USD\"][\"rate\"]\n",
        "\n",
        "if __name__ == \"__main__\":\n",
        "    main()"
      ],
      "metadata": {
        "cellView": "form",
        "id": "iHxePK4z-ZTx"
      },
      "execution_count": null,
      "outputs": []
    },
    {
      "cell_type": "markdown",
      "source": [
        "### **LITTLE PROFESSOR**"
      ],
      "metadata": {
        "id": "DkcmiyQ7-cEf"
      }
    },
    {
      "cell_type": "markdown",
      "source": [
        "This code is from an adaptation of the teacher exercise (https://cs50.harvard.edu/python/2022/psets/4/professor/). In this exercise, a program was required that imitated a child's toy that helped them practice basic math calculations."
      ],
      "metadata": {
        "id": "ri3Xbbjs-l4f"
      }
    },
    {
      "cell_type": "markdown",
      "source": [
        "***ATTENTION!! READ INSTRUCTIONS!!***"
      ],
      "metadata": {
        "id": "PPNBfxb1-uKI"
      }
    },
    {
      "cell_type": "markdown",
      "source": [
        "***INSTRUCTIONS:***\n",
        "  \n",
        "  The program will ask for a \"level\" the levels are composed as follows:\n",
        "    \n",
        "    1 = numbers with one decimal place\n",
        "    2 = numbers with two decimal places\n",
        "    3 = numbers with three decimal places\n",
        "  \n",
        "  Then 5 mathematical sum problems will be generated so you can solve them, if you make a mistake some 'EEE' will appear on the screen and you will be invited to try again, if you make a mistake THREE TIMES the program will show the right result and you will have an error in the counter.\n",
        "  At the end of the program your Score will be made available and it will end.\n",
        "\n",
        "  ***GOOD LUCK!!***\n",
        "\n",
        "  If you want to interrupt the Program press (CTRL + D)"
      ],
      "metadata": {
        "id": "funna1hR-z2H"
      }
    },
    {
      "cell_type": "code",
      "execution_count": null,
      "metadata": {
        "cellView": "form",
        "id": "_RErdpax_COS"
      },
      "outputs": [],
      "source": [
        "#@title Professor.py\n",
        "import random\n",
        "import sys\n",
        "import os\n",
        "\n",
        "def main():\n",
        "  level = get_level()\n",
        "  total_rights = 0\n",
        "  total_plays = 0\n",
        "  while True: \n",
        "    # Generate random numbers\n",
        "    x = generate_integer(level)\n",
        "    y = generate_integer(level)\n",
        "    # Sum the numbers\n",
        "    expected_result = x + y\n",
        "\n",
        "    # Get the result from the user\n",
        "    # Keep the correct answer\n",
        "    expected_result = x + y\n",
        "    # Count the number of mistakes\n",
        "    total_mistakes = 0\n",
        "    while True:\n",
        "        try:\n",
        "          # If the user misses 3 times print the correct result and\n",
        "          # return -1\n",
        "          if(total_mistakes == 3):\n",
        "              print(f\"{x} + {y} = {expected_result}\")\n",
        "              result = False\n",
        "              break\n",
        "          # Get the answer from the user\n",
        "          answer = int(input(f\"{x} + {y} = \"))\n",
        "        # If the user input something other than a int print \"EEE\" and add 1\n",
        "        # to total_mistakes\n",
        "        except ValueError:\n",
        "          print(\"EEE\")\n",
        "          total_mistakes += 1\n",
        "        except EOFError:\n",
        "          # The only way that worked to stop the code was using os, I know it is dangerous!\n",
        "          os._exit(1)\n",
        "          break\n",
        "        else:\n",
        "            # If the answer is the correct answer return answer\n",
        "            if(answer == expected_result):\n",
        "              result = True\n",
        "              break\n",
        "            # If it is wrong print \"EEE\" on the screen and add 1 to total\n",
        "            #_mistakes\n",
        "            else:\n",
        "                print(\"EEE\")\n",
        "                total_mistakes += 1\n",
        "    # If the user input something other than a int print \"EEE\" and add 1\n",
        "    # to total_mistakes\n",
        "    # If the result is right\n",
        "    if(result == True):\n",
        "        total_rights += 1\n",
        "    total_plays += 1\n",
        "\n",
        "    # if the user have already played 10 times print the score and\n",
        "    # exit the program\n",
        "    if(total_plays == 5):\n",
        "        print(f\"Score: {total_rights}\")\n",
        "        # The only way that worked to stop the code was using os, I know it is dangerous!\n",
        "        break\n",
        "\n",
        "\n",
        "def get_level():\n",
        "  while True:\n",
        "    try:\n",
        "      number = int(input(\"Level: \").strip())\n",
        "      if(number == 1 or number == 2 or number == 3):\n",
        "        break\n",
        "    except ValueError:\n",
        "      continue\n",
        "    except EOFError:\n",
        "      # The only way that worked to stop the code was using os, I know it is dangerous!\n",
        "      os._exit(1) \n",
        "  return number\n",
        "\n",
        "\n",
        "def generate_integer(level):\n",
        "  # Get a list of numbers\n",
        "  numbers = []\n",
        "  if(level  == 3):\n",
        "    for i in range(100, 1000):\n",
        "        numbers.append(int(i))\n",
        "  elif(level == 2):\n",
        "    for i in range(10, 100):\n",
        "        numbers.append(int(i))\n",
        "  elif(level == 1):\n",
        "    for i in range(0, 10):\n",
        "        numbers.append(int(i))\n",
        "  # Return a random number of the list\n",
        "  return random.choice(numbers)\n",
        "\n",
        "\n",
        "if __name__ == \"__main__\":\n",
        "  main()"
      ]
    }
  ]
}